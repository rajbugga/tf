{
 "cells": [
  {
   "cell_type": "code",
   "execution_count": null,
   "metadata": {},
   "outputs": [],
   "source": [
    "# Execute SQL command and store the results\n",
    "schema_names = sqlContext.sql(\"SHOW DATABASES\").collect()\n",
    "\n",
    "# Extract schema names into a list\n",
    "schemas = [row.databaseName for row in schema_names]\n",
    "\n",
    "# Initialize an empty list for all grant data\n",
    "all_grants = []\n",
    "\n",
    "for schema in schemas:\n",
    "    # Generate SQL command\n",
    "    sql_command = f\"SHOW GRANTS ON SCHEMA `{schema}`\"\n",
    "\n",
    "    # Execute SQL command and get the results\n",
    "    grants = sqlContext.sql(sql_command).collect()\n",
    "\n",
    "    # Store results with schema name\n",
    "    for grant in grants:\n",
    "        all_grants.append((schema, grant.Principal, grant.ActionType, grant.ObjectType, grant.ObjectKey))\n",
    "\n",
    "# Define the schema for the DataFrame\n",
    "from pyspark.sql.types import StructType, StructField, StringType\n",
    "\n",
    "schema = StructType([\n",
    "    StructField(\"Schema\", StringType(), True),\n",
    "    StructField(\"Principal\", StringType(), True),\n",
    "    StructField(\"ActionType\", StringType(), True),\n",
    "    StructField(\"ObjectType\", StringType(), True),\n",
    "    StructField(\"ObjectKey\", StringType(), True)\n",
    "])\n",
    "\n",
    "# Convert the list to a DataFrame\n",
    "grants_df = spark.createDataFrame(all_grants, schema)\n",
    "\n",
    "# Write the DataFrame to a Hive table\n",
    "grants_df.write.mode('overwrite').saveAsTable(\"hive_metastore_grants\")\n"
   ]
  }
 ],
 "metadata": {
  "language_info": {
   "name": "python"
  }
 },
 "nbformat": 4,
 "nbformat_minor": 2
}
